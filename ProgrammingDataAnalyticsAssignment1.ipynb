{
 "cells": [
  {
   "cell_type": "code",
   "execution_count": 5,
   "metadata": {},
   "outputs": [],
   "source": [
    "#Programming for Data Analytics Assignment 1 November 2019\n",
    "\n",
    "## Problem Statement ##\n",
    "\n",
    "###The aim of this assignment is to explain the following:\n",
    "###    1. The purpose of the Jupyter package\n",
    "###    2. The functions\n",
    "###        - Simple random data\n",
    "###        - Permutations\n",
    "###    3. The use and purpose of at least five distribution functions\n",
    "###    4. The use of seeds in generating pseudorandom numbers\n",
    "\n",
    "### For each step, research will be performed to provide a simple explanation with references provided.\n",
    "### This research will then be followed by a program which can be run to explain the process."
   ]
  },
  {
   "cell_type": "code",
   "execution_count": null,
   "metadata": {},
   "outputs": [],
   "source": [
    "## The purpose of the Jupyter Pacakge (Draft)\n",
    "### Jupyter's name is a reference to the three core programming languages supported by Jupyter, which are Julia, Python and R, and also a homage to Galileo's notebooks recording the discovery of the moons of Jupiter\n",
    "### Jupyter is language agnostic and it supports execution environments (aka kernels) in several dozen languages among which are Julia, R, Haskell, Ruby, and of course Python (via the IPython kernel).\n",
    "### interactive computing across dozens of programming languages\". Spun-off from IPython in 2014 by Fernando Pérez, Project Jupyter supports execution environments in several dozen languages.\n",
    "### operating philosophy is to support interactive data science and scientific computing across all programming languages via the development of open-source software.\n",
    "###  a web-based interactive computational environment for creating Jupyter notebook documents. \n",
    "### Jupyter kernels: A Jupyter kernel is a program responsible for handling various types of request (code execution, code completions, inspection), and providing a reply. Kernels talk to the other components of Jupyter using ZeroMQ over the network, and thus can be on the same or remote machines. Unlike many other Notebook-like interfaces, in Jupyter, kernels are not aware that they are attached to a specific document, and can be connected to many clients at once. Usually kernels allow execution of only a single language, but there are a couple of exceptions. By default Jupyter ships with IPython as a default kernel and a reference implementation via the ipykernel wrapper. Kernels for many languages having varying quality and features are available.\n",
    "\n",
    "\n",
    "\n",
    "\n",
    "\n",
    "\n",
    "\n",
    "## References:\n",
    "###1. https://en.wikipedia.org/wiki/Project_Jupyter\n",
    "###2. https://www.theatlantic.com/science/archive/2018/04/the-scientific-paper-is-obsolete/556676/\n",
    "\n"
   ]
  },
  {
   "cell_type": "code",
   "execution_count": null,
   "metadata": {},
   "outputs": [],
   "source": []
  }
 ],
 "metadata": {
  "kernelspec": {
   "display_name": "Python 3",
   "language": "python",
   "name": "python3"
  },
  "language_info": {
   "codemirror_mode": {
    "name": "ipython",
    "version": 3
   },
   "file_extension": ".py",
   "mimetype": "text/x-python",
   "name": "python",
   "nbconvert_exporter": "python",
   "pygments_lexer": "ipython3",
   "version": "3.7.3"
  }
 },
 "nbformat": 4,
 "nbformat_minor": 2
}
